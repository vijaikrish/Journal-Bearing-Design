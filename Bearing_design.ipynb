{
  "nbformat": 4,
  "nbformat_minor": 0,
  "metadata": {
    "colab": {
      "name": "Bearing_design.ipynb",
      "provenance": [],
      "mount_file_id": "1ECglH6UFbQvqZbmW2gXmMPmaVa2hapaY",
      "authorship_tag": "ABX9TyP2nyXY1ocYYWYiTHFYY2pY",
      "include_colab_link": true
    },
    "kernelspec": {
      "name": "python3",
      "display_name": "Python 3"
    },
    "language_info": {
      "name": "python"
    }
  },
  "cells": [
    {
      "cell_type": "markdown",
      "metadata": {
        "id": "view-in-github",
        "colab_type": "text"
      },
      "source": [
        "<a href=\"https://colab.research.google.com/github/vijaikrish/Journal-Bearing-Design/blob/main/Bearing_design.ipynb\" target=\"_parent\"><img src=\"https://colab.research.google.com/assets/colab-badge.svg\" alt=\"Open In Colab\"/></a>"
      ]
    },
    {
      "cell_type": "code",
      "metadata": {
        "id": "SfATcY7PYrgn"
      },
      "source": [
        "import numpy as np\n",
        "from tkinter import *\n",
        "import cmath\n",
        "from matplotlib.backends.backend_tkagg import FigureCanvasTkAgg\n",
        "from tkinter import ttk\n",
        "from matplotlib.figure import Figure\n",
        "import matplotlib.pyplot as plt"
      ],
      "execution_count": 1,
      "outputs": []
    },
    {
      "cell_type": "code",
      "metadata": {
        "id": "sHYB6-VyVU47"
      },
      "source": [
        "LD0_25 = np.genfromtxt('drive/MyDrive/Bearing design/LDratio0_25.csv', delimiter=',')\n",
        "LD0_5 = np.genfromtxt('drive/MyDrive/Bearing design/LDratio0_5.csv', delimiter=',')\n",
        "LD1 = np.genfromtxt('drive/MyDrive/Bearing design/LDratio1.csv', delimiter=',')"
      ],
      "execution_count": 4,
      "outputs": []
    },
    {
      "cell_type": "code",
      "metadata": {
        "id": "kwmC-7RaVXd6"
      },
      "source": [
        "eccentricity = 1\n",
        "sommerfeld = 1\n",
        "attitude_angle = 2\n",
        "friction = 3\n",
        "flow = 4\n",
        "torque = 5"
      ],
      "execution_count": 5,
      "outputs": []
    },
    {
      "cell_type": "code",
      "metadata": {
        "id": "84Aon9wvWXau"
      },
      "source": [
        "# This optimisation is performed for the fixed radius and the fixed axial value\n",
        "# The clearance is the only value used for the optimisation\n",
        "# Given data\n",
        "\n",
        "axial_length = \n",
        "shaft_radius =\n",
        "weight =\n",
        "rpm =\n",
        "\n"
      ],
      "execution_count": null,
      "outputs": []
    },
    {
      "cell_type": "code",
      "metadata": {
        "id": "jZD3bS_qcBRu"
      },
      "source": [
        ""
      ],
      "execution_count": null,
      "outputs": []
    }
  ]
}